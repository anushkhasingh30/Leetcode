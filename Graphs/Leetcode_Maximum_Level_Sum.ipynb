{
  "nbformat": 4,
  "nbformat_minor": 0,
  "metadata": {
    "colab": {
      "name": "Leetcode Maximum Level Sum.ipynb",
      "provenance": [],
      "collapsed_sections": []
    },
    "kernelspec": {
      "name": "python3",
      "display_name": "Python 3"
    },
    "language_info": {
      "name": "python"
    }
  },
  "cells": [
    {
      "cell_type": "code",
      "execution_count": 14,
      "metadata": {
        "colab": {
          "base_uri": "https://localhost:8080/"
        },
        "id": "XCLBd4vFIL9i",
        "outputId": "b5b4b778-944d-49b2-dd73-3010a843b762"
      },
      "outputs": [
        {
          "output_type": "stream",
          "name": "stdout",
          "text": [
            "1 2 3 4 5 6 7\n",
            "root:  1\n",
            "left child of 1:  2\n",
            "right child of 1:  3\n",
            "left child of 2:  4\n",
            "right child of 2:  5\n",
            "left child of 3:  6\n",
            "right child of 3:  7\n",
            "3\n"
          ]
        }
      ],
      "source": [
        "# E001 : Maximum Level Sum of a Binary Tree | BFS | Leetcode\n",
        "class node():\n",
        "  def __init__(self, data):\n",
        "    self.data = data\n",
        "    self.left = None\n",
        "    self.right = None\n",
        "\n",
        "class tree():\n",
        "  def __init__(self):\n",
        "    self.root = None\n",
        "  \n",
        "  def take_input(self):\n",
        "    root_in = list(input().split())\n",
        "    for idx,val in enumerate(root_in):\n",
        "      if val == \"None\":\n",
        "        root_in[idx] = None\n",
        "      else:\n",
        "        root_in[idx] = int(val)\n",
        "    \n",
        "    queue = []\n",
        "    self.root = node(root_in[0])\n",
        "    root_in.pop(0)\n",
        "    queue.append(self.root)\n",
        "    \n",
        "    while root_in:\n",
        "      p = queue.pop(0)\n",
        "\n",
        "      if root_in[0] != None:\n",
        "        p.left = node(root_in[0])\n",
        "        queue.append(p.left)\n",
        "      root_in.pop(0)\n",
        "\n",
        "      if root_in[0] != None:\n",
        "        p.right = node(root_in[0])\n",
        "        queue.append(p.right)\n",
        "      root_in.pop(0)\n",
        "  \n",
        "  def level_sum(self):\n",
        "    queue = []\n",
        "    mx = 1\n",
        "    self.level = [0 for _ in range(10000)]\n",
        "    cur = self.root\n",
        "    queue.append((cur, 1))\n",
        "\n",
        "    while queue:\n",
        "      p = queue.pop(0)\n",
        "      cur_node = p[0]\n",
        "      cur_level = p[1]\n",
        "      mx = max(mx, cur_level)\n",
        "\n",
        "      self.level[cur_level] += cur_node.data\n",
        "\n",
        "      if cur_node.left != None:\n",
        "        queue.append((cur_node.left, cur_level+1))\n",
        "      \n",
        "      if cur_node.right != None:\n",
        "        queue.append((cur_node.right, cur_level+1))\n",
        "    \n",
        "    max_sum = float(\"-inf\")\n",
        "    res_level = 0\n",
        "\n",
        "    for l in range(mx+1):\n",
        "      if self.level[l] > max_sum:\n",
        "        max_sum = self.level[l]\n",
        "        res_level = l\n",
        "    \n",
        "    return res_level\n",
        "\n",
        "  def print_tree(self):\n",
        "    cur = self.root\n",
        "    queue = []\n",
        "    queue.append(cur)\n",
        "\n",
        "    print(\"root: \", cur.data)\n",
        "\n",
        "    while queue:\n",
        "      p = queue.pop(0)\n",
        "      if p.left != None:\n",
        "        print(f\"left child of {p.data}: \", p.left.data)\n",
        "        queue.append(p.left)\n",
        "      \n",
        "      if p.right != None:\n",
        "        print(f\"right child of {p.data}: \", p.right.data)\n",
        "        queue.append(p.right)\n",
        "\n",
        "def main():\n",
        "  t = tree()\n",
        "  t.take_input()\n",
        "  t.print_tree()\n",
        "  print(t.level_sum())\n",
        "main()"
      ]
    },
    {
      "cell_type": "code",
      "source": [
        ""
      ],
      "metadata": {
        "id": "P5ZBRTPLPUgQ"
      },
      "execution_count": null,
      "outputs": []
    }
  ]
}